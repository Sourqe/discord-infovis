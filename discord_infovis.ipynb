{
 "cells": [
  {
   "cell_type": "markdown",
   "metadata": {},
   "source": [
    "# Discord InfoVis"
   ]
  },
  {
   "cell_type": "markdown",
   "metadata": {},
   "source": [
    "The goal of this small project is to provide some information visualization regarding Discord messages between two individuals. I used [this](https://github.com/Tyrrrz/DiscordChatExporter) tool to obtain a dataset that captures all messages sent between two individuals. It contains the following columns: (author, date, content, attachments, reactions)."
   ]
  },
  {
   "cell_type": "markdown",
   "metadata": {},
   "source": [
    "## Imports"
   ]
  },
  {
   "cell_type": "code",
   "execution_count": null,
   "metadata": {},
   "outputs": [],
   "source": [
    "import pandas as pd\n",
    "import matplotlib.pyplot as plt\n",
    "import numpy as np\n",
    "import seaborn as sns\n",
    "import calendar\n",
    "\n",
    "from matplotlib import rcParams\n",
    "from matplotlib.dates import (YEARLY, DateFormatter,\n",
    "                              rrulewrapper, RRuleLocator, drange)\n",
    "from datetime import datetime, timedelta\n",
    "from adjustText import adjust_text"
   ]
  },
  {
   "cell_type": "markdown",
   "metadata": {},
   "source": [
    "## Configuration"
   ]
  },
  {
   "cell_type": "code",
   "execution_count": null,
   "metadata": {},
   "outputs": [],
   "source": [
    "DATASET_PATH = 'datasets/example.csv'\n",
    "USERNAME_MYSELF = 'EXAMPLE#6968'\n",
    "USERNAME_OTHER = 'EXAMPLE#4988'\n",
    "NAME_MYSELF = 'Example'\n",
    "NAME_OTHER = 'Example'\n",
    "COLOR1 = '#73455F'\n",
    "COLOR2 = '#E6706E'\n",
    "COLORS = [COLOR1, COLOR2]"
   ]
  },
  {
   "cell_type": "markdown",
   "metadata": {},
   "source": [
    "# Cleaning"
   ]
  },
  {
   "cell_type": "code",
   "execution_count": null,
   "metadata": {},
   "outputs": [],
   "source": [
    "# Import the data\n",
    "df = pd.read_csv(DATASET_PATH, sep=';', dtype={\"Author\": str, \"Date\": str, \"Content\": str, \"Attachments\": str, \"Unnamed\": str})\n",
    "\n",
    "# Rename some of the columns to my own liking\n",
    "df.rename(columns={'Author': 'author', 'Date': 'time', 'Content': 'content', \n",
    "                   'Attachments': 'attachments', 'Reactions': 'reactions'}, inplace=True)\n",
    "del df['Unnamed: 5']\n",
    "\n",
    "# Final day that contains incomplete data\n",
    "# incomplete = 198\n",
    "# df.drop(df.tail(incomplete).index,inplace=True)\n",
    "\n",
    "# Convert date and time to standard datetime object\n",
    "df['time'] = df['time'].astype('datetime64[ns]')\n",
    "\n",
    "# Create date column that only captures the date\n",
    "df['date'] = [row.date() for row in df['time']]\n",
    "\n",
    "# Fill the NaNs\n",
    "df['content'].fillna('', inplace=True)\n",
    "df['attachments'].fillna('', inplace=True)\n",
    "df['reactions'].fillna('', inplace=True)\n",
    "\n",
    "# Replace the username by the real names for convenience\n",
    "df['author'] = df['author'].map({USERNAME_MYSELF: NAME_MYSELF, USERNAME_OTHER: NAME_OTHER})"
   ]
  },
  {
   "cell_type": "markdown",
   "metadata": {},
   "source": [
    "## Visualization"
   ]
  },
  {
   "cell_type": "code",
   "execution_count": null,
   "metadata": {},
   "outputs": [],
   "source": [
    "number_messages_total = len(df)\n",
    "number_messages_myself = len(df[df['author'] == NAME_MYSELF])\n",
    "number_messages_other = len(df[df['author'] == NAME_OTHER])"
   ]
  },
  {
   "cell_type": "code",
   "execution_count": null,
   "metadata": {},
   "outputs": [],
   "source": [
    "def make_autopct(values):\n",
    "    def my_autopct(pct):\n",
    "        total = sum(values)\n",
    "        val = int(round(pct*total/100.0))\n",
    "        return '{p:.2f}%  ({v:d})'.format(p=pct,v=val)\n",
    "    return my_autopct"
   ]
  },
  {
   "cell_type": "code",
   "execution_count": null,
   "metadata": {},
   "outputs": [],
   "source": [
    "# Pie chart displaying message distribution\n",
    "\n",
    "# Note that images, emotes, videos, links, etc are all counted as messages\n",
    "share = [number_messages_myself, number_messages_other]\n",
    "labels = [NAME_MYSELF, NAME_OTHER]\n",
    "patches, texts, _ = plt.pie(share, autopct=make_autopct(share), explode=(0.025, 0), colors=COLORS, shadow=True, startangle=90)\n",
    "plt.legend(patches, labels, loc=\"best\")\n",
    "plt.axis('equal')\n",
    "plt.title('Number of messages sent per person')\n",
    "# plt.savefig('output/total_messages_per_person.svg')"
   ]
  },
  {
   "cell_type": "code",
   "execution_count": null,
   "metadata": {},
   "outputs": [],
   "source": [
    "# Time period\n",
    "start_date = df['time'][0]\n",
    "end_date = df['time'][len(df['time']) - 1]\n",
    "difference = end_date - start_date\n",
    "\n",
    "print('Started talking on {0}'.format(start_date))\n",
    "print('This data has been captured until {0}'.format(end_date))\n",
    "print('That is a total of {0}'.format(difference))"
   ]
  },
  {
   "cell_type": "code",
   "execution_count": null,
   "metadata": {},
   "outputs": [],
   "source": [
    "# Group the data per date and see how many messages there were each day\n",
    "df_groupedby_date = df.groupby('date').count()\n",
    "df_groupedby_date.reset_index(inplace=True)"
   ]
  },
  {
   "cell_type": "code",
   "execution_count": null,
   "metadata": {},
   "outputs": [],
   "source": [
    "# Rule so that we only display it for each month\n",
    "rule = rrulewrapper(YEARLY, bymonthday=1)\n",
    "loc = RRuleLocator(rule)\n",
    "formatter = DateFormatter('%m/%y')\n",
    "\n",
    "fig, ax = plt.subplots()\n",
    "plt.plot_date(df_groupedby_date['date'], df_groupedby_date['content'], 'o', label='Data', color=COLOR2, alpha=0.5)\n",
    "\n",
    "y = df_groupedby_date['content'].sum() / len(df_groupedby_date)\n",
    "y_mean = [y] * len(df_groupedby_date)\n",
    "mean_line = ax.plot(df_groupedby_date['date'], y_mean, label='Mean', linestyle='--', color=COLOR1)\n",
    "\n",
    "plt.title('Number of messages sent per day')\n",
    "plt.xlabel('Day')\n",
    "plt.ylabel('Number of messages')\n",
    "legend = ax.legend(loc='upper right')\n",
    "ax.xaxis.set_major_locator(loc)\n",
    "ax.xaxis.set_major_formatter(formatter)\n",
    "ax.xaxis.set_tick_params(rotation=75)\n",
    "# plt.savefig('output/total_messages_per_day.svg')"
   ]
  },
  {
   "cell_type": "code",
   "execution_count": null,
   "metadata": {},
   "outputs": [],
   "source": [
    "# Text by month of the year\n",
    "df['month_year'] = [row.date().strftime('%m/%y') for row in df['time']]\n",
    "g = sns.catplot(x='month_year', kind='count', data=df, color=COLOR2)\n",
    "plt.margins(x=0)\n",
    "plt.title('Number of messages sent per month')\n",
    "g.set(xlabel='Month/year combination', ylabel='Number of messages')\n",
    "g.set_xticklabels(rotation=75)\n",
    "# g.savefig('output/total_messages_per_month.svg')"
   ]
  },
  {
   "cell_type": "code",
   "execution_count": null,
   "metadata": {},
   "outputs": [],
   "source": [
    "# Text by month of the year\n",
    "# Disregarding their time zone because everyone hate timezones\n",
    "g = sns.catplot(x='month_year', kind='count', hue='author', data=df, legend=False, palette=sns.color_palette(COLORS))\n",
    "plt.margins(x=0)\n",
    "plt.legend([NAME_MYSELF, NAME_OTHER])\n",
    "plt.title('Number of messages sent per month')\n",
    "g.set(xlabel='Month/year combination', ylabel='Number of messages')\n",
    "g.set_xticklabels(rotation=75)\n",
    "# g.savefig('output/individual_messages_per_month.svg')"
   ]
  },
  {
   "cell_type": "code",
   "execution_count": null,
   "metadata": {},
   "outputs": [],
   "source": [
    "# Text by day of the week\n",
    "df['weekday'] = [row.day_name() for row in df['time']]\n",
    "g = sns.catplot(x='weekday', kind='count', data=df, color=COLOR2)\n",
    "plt.margins(x=0)\n",
    "plt.title('Number of messages sent per day of the week')\n",
    "g.set(xlabel='Day of the week', ylabel='Number of messages')\n",
    "g.set_xticklabels(rotation=75)\n",
    "# g.savefig('output/total_messages_per_weekday.svg')"
   ]
  },
  {
   "cell_type": "code",
   "execution_count": null,
   "metadata": {},
   "outputs": [],
   "source": [
    "# Text by day of the week (me and other)\n",
    "# Disregarding their time zone because complicated\n",
    "g = sns.catplot(x='weekday', kind='count', hue='author', data=df, legend=False, palette=sns.color_palette(COLORS))\n",
    "plt.margins(x=0)\n",
    "plt.title('Number of messages sent per day of the week')\n",
    "plt.legend([NAME_MYSELF, NAME_OTHER])\n",
    "g.set(xlabel='Day of the week', ylabel='Number of messages')\n",
    "g.set_xticklabels(rotation=75)\n",
    "# g.savefig('output/individual_messages_per_weekday.svg')"
   ]
  },
  {
   "cell_type": "code",
   "execution_count": null,
   "metadata": {},
   "outputs": [],
   "source": [
    "# Text by time of the day\n",
    "# >30 minutes, rounded up AND <= 30 minutes, rounded down\n",
    "df['hour'] = [row.hour for row in df['time']]\n",
    "df.sort_values(by=['hour'])\n",
    "g = sns.catplot(x='hour', kind='count', data=df, color=COLOR1)\n",
    "plt.margins(x=0)\n",
    "plt.title('Number of messages sent per hour (GMT+2)')\n",
    "g.set(xlabel='Hour of the day', ylabel='Number of messages')\n",
    "# g.savefig('output/total_messages_per_hour.svg')"
   ]
  },
  {
   "cell_type": "code",
   "execution_count": null,
   "metadata": {},
   "outputs": [],
   "source": [
    "# Text by time of the day\n",
    "# >30 minutes, rounded up AND <= 30 minutes, rounded down\n",
    "df['hour'] = [row.hour for row in df['time']]\n",
    "df.sort_values(by=['hour'])\n",
    "g = sns.catplot(x='hour', kind='count', hue='author', data=df, legend=False, palette=sns.color_palette(COLORS))\n",
    "plt.margins(x=0)\n",
    "plt.legend(loc='upper left', labels=[NAME_MYSELF, NAME_OTHER])\n",
    "plt.title('Number of messages sent per hour (GMT+2)')\n",
    "g.set(xlabel='Hour of the day', ylabel='Number of messages')\n",
    "# g.savefig('output/individual_messages_per_hour_2.svg')"
   ]
  },
  {
   "cell_type": "code",
   "execution_count": null,
   "metadata": {},
   "outputs": [],
   "source": [
    "df_nz = df.copy()\n",
    "df_nz['time'] = [row + timedelta(hours=10) for row in df_nz['time']]\n",
    "df_nz['hour'] = [row.hour for row in df_nz['time']]\n",
    "df_nz.sort_values(by=['hour'])\n",
    "g = sns.catplot(x='hour', kind='count', hue='author', data=df_nz, legend=False, palette=sns.color_palette(COLORS))\n",
    "plt.margins(x=0)\n",
    "plt.legend(loc='upper left', labels=[NAME_MYSELF, NAME_OTHER])\n",
    "plt.title('Number of messages sent per hour (GMT+12)')\n",
    "g.set(xlabel='Hour of the day', ylabel='Number of messages')\n",
    "# g.savefig('output/individual_messages_per_hour_12.svg')"
   ]
  },
  {
   "cell_type": "code",
   "execution_count": null,
   "metadata": {},
   "outputs": [],
   "source": [
    "# Compute the text length excluding whitespaces\n",
    "df_text_length = df.copy()\n",
    "df_text_length['content_length'] = [(len(row) - row.count(' ')) for row in df_text_length['content']]"
   ]
  },
  {
   "cell_type": "code",
   "execution_count": null,
   "metadata": {},
   "outputs": [],
   "source": [
    "# Sentence length (<50) between each person\n",
    "ax = sns.violinplot(x='content_length', y='author', data=df_text_length[df_text_length.content_length <= 50], palette=sns.color_palette(COLORS))\n",
    "plt.xlabel('Message length')\n",
    "plt.ylabel('Person')\n",
    "plt.title('Message length sent by person (<50 characters)')\n",
    "# plt.savefig('output/individual_length_of_messages.svg')"
   ]
  },
  {
   "cell_type": "code",
   "execution_count": null,
   "metadata": {},
   "outputs": [],
   "source": [
    "rule = rrulewrapper(YEARLY, bymonthday=1)\n",
    "loc = RRuleLocator(rule)\n",
    "formatter = DateFormatter('%m/%y')\n",
    "fig = plt.figure(figsize=(12,6))\n",
    "ax = sns.scatterplot(x='date', y='content_length', hue='author', data=df_text_length, alpha=0.8, legend='full', palette=sns.color_palette(COLORS))\n",
    "plt.xlabel('Month/year combination')\n",
    "plt.ylabel('Message length')\n",
    "plt.title('Message length per date')\n",
    "ax.set(xlim=(df_text_length['date'].min() - timedelta(days=5), df_text_length['date'].max() + timedelta(days=5)))\n",
    "ax.xaxis.set_major_locator(loc)\n",
    "ax.xaxis.set_major_formatter(formatter)\n",
    "ax.xaxis.set_tick_params(rotation=75, labelsize=10)\n",
    "# plt.savefig('output/individual_message_length_per_day.png', dpi=500)"
   ]
  },
  {
   "cell_type": "code",
   "execution_count": null,
   "metadata": {},
   "outputs": [],
   "source": [
    "# Most commonly used words (50) - https://www.wordclouds.com/\n",
    "# I like this more because it provides easy ways to configure the cloud\n",
    "# from collections import Counter \n",
    "\n",
    "# most_common_words = df\n",
    "# most_common_words['content'] = [row + ' , ' for row in most_common_words['content']]\n",
    "# most_common_words = most_common_words['content'].sum()\n",
    "\n",
    "# text_file = open(\"Output.txt\", \"w\")\n",
    "# text_file.write(most_common_words)\n",
    "# text_file.close()\n",
    "\n",
    "# Output file (after putting it in wordclouds) can be found in the output folder"
   ]
  },
  {
   "cell_type": "code",
   "execution_count": null,
   "metadata": {},
   "outputs": [],
   "source": [
    "# Number of messages that were media messages (image, video, gif) (NON-LINK)\n",
    "share = [len(df[df['attachments'] != '']['attachments']), len(df[df['attachments'] == '']['attachments'])]\n",
    "labels = ['Media message', 'Text message']\n",
    "patches, texts, _ = plt.pie(share, autopct=make_autopct(share), explode=(0.025, 0), shadow=True, startangle=90, colors=COLORS)\n",
    "plt.legend(patches, labels, loc='best')\n",
    "plt.axis('equal')\n",
    "plt.title('Type of messages sent')\n",
    "# plt.savefig('output/individual_messages_media.svg')"
   ]
  },
  {
   "cell_type": "code",
   "execution_count": null,
   "metadata": {},
   "outputs": [],
   "source": [
    "# Number of messages that were media messages (image, video, gif) (NON-LINK)\n",
    "share = [len(df[df['reactions'] != '']['reactions']), len(df[df['reactions'] == '']['reactions'])]\n",
    "labels = ['Messages with at least one reaction', 'Messages with no reaction']\n",
    "patches, texts, _ = plt.pie(share, autopct=make_autopct(share), explode=(0.025, 0), shadow=True, startangle=90, colors=COLORS)\n",
    "plt.legend(patches, labels, loc=\"best\")\n",
    "plt.axis('equal')\n",
    "plt.title('Number of messages with and without at least one reaction')\n",
    "# plt.savefig('output/individual_messages_reaction.svg')"
   ]
  },
  {
   "cell_type": "code",
   "execution_count": null,
   "metadata": {},
   "outputs": [],
   "source": [
    "df_word = df.copy()\n",
    "df_word = df_word.assign(content=df.content.str.split(' ')).explode('content').reset_index(drop=True)\n",
    "\n",
    "# Remove messages with empty content (attachments) or just commas\n",
    "df_word = df_word.query(\"content != ''\")\n",
    "df_word = df_word.query(\"content != ','\")"
   ]
  },
  {
   "cell_type": "code",
   "execution_count": null,
   "metadata": {},
   "outputs": [],
   "source": [
    "df_word_me = df_word.copy()\n",
    "df_word_me = df_word_me[df_word_me['author'] == NAME_MYSELF]\n",
    "df_word_me = df_word_me.groupby('content').count()\n",
    "df_word_me = df_word_me.sort_values(by=['author'], ascending=False)\n",
    "df_word_me = df_word_me.reset_index()\n",
    "df_word_me['person'] = NAME_MYSELF\n",
    "columns = ['author', 'attachments', 'reactions', 'date', 'month_year', 'weekday', 'hour']\n",
    "df_word_me.drop(columns, inplace=True, axis=1)\n",
    "df_word_me.head()"
   ]
  },
  {
   "cell_type": "code",
   "execution_count": null,
   "metadata": {},
   "outputs": [],
   "source": [
    "df_word_them = df_word.copy()\n",
    "df_word_them = df_word_them[df_word_them['author'] == NAME_OTHER]\n",
    "df_word_them = df_word_them.groupby('content').count()\n",
    "df_word_them = df_word_them.sort_values(by=['author'], ascending=False)\n",
    "df_word_them = df_word_them.reset_index()\n",
    "df_word_them['person'] = NAME_OTHER\n",
    "df_word_them.drop(columns, inplace=True, axis=1)\n",
    "df_word_them.head()"
   ]
  },
  {
   "cell_type": "code",
   "execution_count": null,
   "metadata": {},
   "outputs": [],
   "source": [
    "result = pd.merge(df_word_me, df_word_them, on='content')\n",
    "\n",
    "# Compute the total number of occurences\n",
    "result['total'] = [row['time_x'] + row['time_y'] for _, row in result.iterrows()]\n",
    "result = result.sort_values(by=['total'], ascending=False)\n",
    "# Take the first 1000 entries \n",
    "# These are the 1000 most common words sorted on the number of times that word has been used (maybe a bit unfair since I talk more than them)\n",
    "result = result[:1000]\n",
    "result.head()"
   ]
  },
  {
   "cell_type": "code",
   "execution_count": null,
   "metadata": {},
   "outputs": [],
   "source": [
    "g, ax = plt.subplots(figsize=(20,10))\n",
    "ax.scatter(x=result['time_y'], y=result['time_x'], alpha=0.5, color=COLOR2)\n",
    "diag_line = ax.plot(ax.get_xlim(), ax.get_ylim(), ls='--', color=COLOR1)\n",
    "\n",
    "texts = [ax.text(result['time_y'][i], result['time_x'][i], result['content'][i], ha='center', va='center') for i in range(0, 100)]\n",
    "adjust_text(texts)\n",
    "\n",
    "plt.xlabel(NAME_OTHER)\n",
    "plt.ylabel(NAME_MYSELF)\n",
    "plt.title('Word usage by absolute frequency of use')\n",
    "# plt.savefig('output/word_usage_frequency_absolute.svg')"
   ]
  },
  {
   "cell_type": "code",
   "execution_count": null,
   "metadata": {},
   "outputs": [],
   "source": [
    "# Remove some of the most used words in order to get a better visual on the words less commonly used\n",
    "result = result[(result['time_x'] < 4000) & (result['time_y'] < 4000)]\n",
    "result = result.reset_index()\n",
    "\n",
    "g, ax = plt.subplots(figsize=(20,10))\n",
    "ax.scatter(x=result['time_y'], y=result['time_x'], alpha=0.5, color=COLOR2)\n",
    "diag_line = ax.plot(ax.get_xlim(), ax.get_ylim(), ls='--', color=COLOR1)\n",
    "\n",
    "texts = [ax.text(result['time_y'][i], result['time_x'][i], result['content'][i], ha='center', va='center') for i in range(0, 150)]\n",
    "adjust_text(texts)\n",
    "\n",
    "plt.xlabel(NAME_OTHER)\n",
    "plt.ylabel(NAME_MYSELF)\n",
    "plt.title('Word usage by absolute frequency (<4000 occurrences) of use')\n",
    "plt.savefig('output/word_usage_frequency_absolute_less_4000.svg')"
   ]
  },
  {
   "cell_type": "code",
   "execution_count": null,
   "metadata": {},
   "outputs": [],
   "source": [
    "result = pd.merge(df_word_me, df_word_them, on='content')\n",
    "# Compute the total number of occurences\n",
    "result['total'] = [row['time_x'] + row['time_y'] for _, row in result.iterrows()]\n",
    "result = result.sort_values(by=['total'], ascending=False)\n",
    "# Take the first 1000 entries \n",
    "# These are the 1000 most common words sorted on the number of times that word has been used (maybe a bit unfair since I talk more than them)\n",
    "result = result[:1000]\n",
    "result.head()"
   ]
  },
  {
   "cell_type": "code",
   "execution_count": null,
   "metadata": {},
   "outputs": [],
   "source": [
    "g, ax = plt.subplots(figsize=(20,10))\n",
    "ax.scatter(x=result['time_y'], y=result['time_x'], alpha=0.5, color=COLOR2)\n",
    "diag_line = ax.plot(ax.get_xlim(), ax.get_ylim(), ls='--', color=COLOR1)\n",
    "\n",
    "texts = [ax.text(result['time_y'][i], result['time_x'][i], result['content'][i], ha='center', va='center') for i in range(0, 100)]\n",
    "adjust_text(texts)\n",
    "\n",
    "plt.xlabel(NAME_OTHER)\n",
    "plt.ylabel(NAME_MYSELF)\n",
    "plt.title('Word usage by absolute frequency (<1000 occurrences) of use')\n",
    "# plt.savefig('output/word_usage_frequency_less_1000.svg')"
   ]
  },
  {
   "cell_type": "code",
   "execution_count": null,
   "metadata": {},
   "outputs": [],
   "source": [
    "x_bound = 20\n",
    "y_bound = 200\n",
    "\n",
    "# Not limited to top 1000 words anymore\n",
    "result = pd.merge(df_word_me, df_word_them, on='content')\n",
    "result = result[(result['time_x'] < x_bound) & (result['time_y'] > y_bound)]\n",
    "result = result.reset_index()\n",
    "\n",
    "g, ax = plt.subplots(figsize=(20,10))\n",
    "ax.scatter(x=result['time_y'], y=result['time_x'], alpha=0.5, color=COLOR2)\n",
    "diag_line = ax.plot(ax.get_xlim(), ax.get_ylim(), ls='--', color=COLOR1)\n",
    "\n",
    "texts = [ax.text(result['time_y'][i], result['time_x'][i], result['content'][i], ha='center', va='center') for i in range(0, len(result))]\n",
    "adjust_text(texts)\n",
    "\n",
    "plt.xlabel(NAME_OTHER)\n",
    "plt.ylabel(NAME_MYSELF)\n",
    "plt.title('Word usage by absolute frequency (less than {0} times by {1}, more than {2} times by {3}) of use'.format(x_bound, NAME_MYSELF, y_bound, NAME_OTHER))\n",
    "# plt.savefig('output/word_usage_frequency_absolute_less_20_more_200.svg')"
   ]
  },
  {
   "cell_type": "code",
   "execution_count": null,
   "metadata": {},
   "outputs": [],
   "source": [
    "result = pd.merge(df_word_me, df_word_them, on='content')\n",
    "\n",
    "# Compute the total number of occurences\n",
    "result['total'] = [row['time_x'] + row['time_y'] for _, row in result.iterrows()]\n",
    "result = result.sort_values(by=['total'], ascending=False)\n",
    "# Take the first 1000 entries \n",
    "# These are the 1000 most common words sorted on the number of times that word has been used (maybe a bit unfair since I talk more than them)\n",
    "result = result[:1000]\n",
    "\n",
    "# More interesting to compare it (times wise)\n",
    "# Tried percentage, but you only get a diagonal line then, not as interesting\n",
    "result['times_self'] = [row['time_x'] / row['time_y'] for _, row in result.iterrows()]\n",
    "result['times_other'] = [row['time_y'] / row['time_x'] for _, row in result.iterrows()]\n",
    "\n",
    "result['perc_self'] = [row['time_x'] / (row['time_y'] + row['time_x']) * 100 for _, row in result.iterrows()]\n",
    "result['perc_other'] = [row['time_y'] / (row['time_x'] + row['time_y']) * 100 for _, row in result.iterrows()]\n",
    "\n",
    "# Sort by total number of occurences\n",
    "result['total'] = [row['time_x'] + row['time_y'] for _, row in result.iterrows()]\n",
    "result = result.sort_values(by=['total'], ascending=False)\n",
    "\n",
    "result.describe()"
   ]
  },
  {
   "cell_type": "code",
   "execution_count": null,
   "metadata": {},
   "outputs": [],
   "source": [
    "result_copy = result.copy()[:100].reset_index()\n",
    "\n",
    "g, ax = plt.subplots(figsize=(25,15))\n",
    "sns.scatterplot(x='times_other', y='times_self', size='total', data=result_copy, color=COLOR2)\n",
    "diag_line = ax.plot(ax.get_xlim(), ax.get_ylim(), ls='--', color=COLOR1)\n",
    "\n",
    "texts = [ax.text(result_copy['times_other'][i], result_copy['times_self'][i], result_copy['content'][i]) for i in range(0, len(result_copy))]\n",
    "adjust_text(texts)\n",
    "\n",
    "plt.xlabel(NAME_OTHER)\n",
    "plt.ylabel(NAME_MYSELF)\n",
    "plt.title('Word usage by relative frequency (times) of use')\n",
    "# plt.savefig('output/word_usage_frequency_times.svg')"
   ]
  },
  {
   "cell_type": "code",
   "execution_count": null,
   "metadata": {},
   "outputs": [],
   "source": [
    "result_copy = result.copy()[:100]\n",
    "# Zoom in on the smaller percentages\n",
    "result_copy = result_copy[(result_copy['times_self'] < 4.5) & (result_copy['times_other'] < 10)].reset_index()\n",
    "\n",
    "g, ax = plt.subplots(figsize=(20,15))\n",
    "sns.scatterplot(x='times_other', y='times_self', size='total', data=result_copy, color=COLOR2)\n",
    "diag_line = ax.plot(ax.get_xlim(), ax.get_ylim(), ls='--', color=COLOR1)\n",
    "\n",
    "texts = [ax.text(result_copy['times_other'][i], result_copy['times_self'][i], result_copy['content'][i]) for i in range(0, len(result_copy))]\n",
    "adjust_text(texts)\n",
    "\n",
    "plt.xlabel(NAME_OTHER)\n",
    "plt.ylabel(NAME_MYSELF)\n",
    "plt.title('Word usage by relative frequency of use (<5 times)')\n",
    "# plt.savefig('output/word_usage_frequency_times_less_5.svg')"
   ]
  },
  {
   "cell_type": "code",
   "execution_count": null,
   "metadata": {},
   "outputs": [],
   "source": [
    "result_copy = result.copy()[:100].reset_index()\n",
    "\n",
    "g, ax = plt.subplots(figsize=(10,10))\n",
    "sns.scatterplot(x='perc_other', y='perc_self', size='total', sizes=(20, 200), data=result_copy, color=COLOR2)\n",
    "diag_line = ax.plot(ax.get_xlim(), ax.get_ylim(), ls='--', color=COLOR1)\n",
    "\n",
    "texts = [ax.text(result_copy['perc_other'][i], result_copy['perc_self'][i], result_copy['content'][i]) for i in range(0, len(result_copy))]\n",
    "adjust_text(texts)\n",
    "\n",
    "plt.xlabel(NAME_OTHER)\n",
    "plt.ylabel(NAME_MYSELF)\n",
    "plt.title('Word usage by frequency in percentages of use')\n",
    "# plt.savefig('output/word_usage_frequency_relative.svg')"
   ]
  },
  {
   "cell_type": "code",
   "execution_count": null,
   "metadata": {},
   "outputs": [],
   "source": [
    "result_copy = result.copy()[:100]\n",
    "result_copy = result_copy[(result_copy['perc_other'] < 55) & (result_copy['perc_self'] < 55)].reset_index()\n",
    "# result_copy = result_copy.reset_index()\n",
    "\n",
    "g, ax = plt.subplots(figsize=(10,10))\n",
    "sns.scatterplot(x='perc_other', y='perc_self', size='total', sizes=(20, 200), data=result_copy, color=COLOR2)\n",
    "diag_line = ax.plot(ax.get_xlim(), ax.get_ylim(), ls='--', color=COLOR1)\n",
    "\n",
    "texts = [ax.text(result_copy['perc_other'][i], result_copy['perc_self'][i], result_copy['content'][i]) for i in range(0, len(result_copy))]\n",
    "adjust_text(texts)\n",
    "\n",
    "plt.xlabel(NAME_OTHER)\n",
    "plt.ylabel(NAME_MYSELF)\n",
    "plt.title('Word usage by frequency in percentages of use (<60%)')\n",
    "# plt.savefig('output/word_usage_frequency_relative_less_60%.svg')"
   ]
  }
 ],
 "metadata": {
  "kernelspec": {
   "display_name": "Python 3",
   "language": "python",
   "name": "python3"
  },
  "language_info": {
   "codemirror_mode": {
    "name": "ipython",
    "version": 3
   },
   "file_extension": ".py",
   "mimetype": "text/x-python",
   "name": "python",
   "nbconvert_exporter": "python",
   "pygments_lexer": "ipython3",
   "version": "3.6.8"
  }
 },
 "nbformat": 4,
 "nbformat_minor": 4
}
